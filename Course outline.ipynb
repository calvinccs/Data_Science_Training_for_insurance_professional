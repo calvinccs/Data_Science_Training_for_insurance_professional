{
 "cells": [
  {
   "cell_type": "code",
   "execution_count": 3,
   "metadata": {},
   "outputs": [
    {
     "name": "stdout",
     "output_type": "stream",
     "text": [
      "/Users/ehda-calvin/Databox/Data Science for Insurance\r\n"
     ]
    }
   ],
   "source": [
    "!pwd"
   ]
  },
  {
   "cell_type": "markdown",
   "metadata": {},
   "source": [
    "# Data Science Training for Insurance Professional"
   ]
  },
  {
   "cell_type": "markdown",
   "metadata": {},
   "source": [
    "## Objectives\n",
    "\n",
    "* Provide basic understanding of the use of data science in insurance industries.\n",
    "* Basic training in python for data analystics (Data visualization, Machine learning, Model evaluation)\n",
    "* Get people interested to learn more of data science (Use daily example and interesting topics)\n",
    "\n",
    "\n",
    "* Example application for insurance - risk prediction\n",
    "* Propose example: Predict the risk of stroke.\n",
    "* Method 1: Create a logical model to predict stroke occur, i.e. based on logic / common sense \n",
    "* Method 2: Use machine learning method to predict stroke occur."
   ]
  },
  {
   "cell_type": "markdown",
   "metadata": {},
   "source": [
    "## Learning outcome:\n",
    "\n",
    "* Ability to distinguish the different between Fuzzy Logic and Machine Learning\n",
    "* Able to discuss the pros and con of the two methods\n",
    "* Ability to use python to analyse learge datasets (which may cause crush in Excel)"
   ]
  },
  {
   "cell_type": "markdown",
   "metadata": {},
   "source": [
    "## Lesson 1\n",
    "\n",
    "* Download the course material from GitHub\n",
    "* Install data science environment in the laptop. (https://www.anaconda.com/download/)\n",
    "* Introduction of Python and Jupyter notebook.\n",
    "* Basic python commands and python data types.\n",
    "* Loops, logic and user define functions.\n",
    "* Pandas library - data frame, data series.\n",
    "* Problem solving for open source software.\n",
    "\n",
    "***HOMEWORK***\n",
    "* Python exercises"
   ]
  },
  {
   "cell_type": "markdown",
   "metadata": {},
   "source": [
    "## Lesson 2\n",
    "\n",
    "* Data example - Health Analytics\n",
    "* Exploratory data analysis\n",
    "* Data visualization (library - seaborn)\n",
    "* Create a stroke prediction model by logical sense, i.e. based on knowledge of stroke (Class example)\n",
    "* Model evaluation (ROC curve, AUC score, confusion matrix)\n",
    "\n",
    "***HOMEWORK***\n",
    "* Improved version of the logical model"
   ]
  },
  {
   "cell_type": "markdown",
   "metadata": {},
   "source": [
    "## Lesson 3\n",
    "\n",
    "* Use machine learning method to predict stroke occur (scikit-learn, decision tree, random forest)\n",
    "* Model evaluation\n",
    "* Example of feature engineering\n",
    "* Discussion on logical model and machine learning model\n",
    "\n",
    "\n"
   ]
  },
  {
   "cell_type": "code",
   "execution_count": null,
   "metadata": {
    "collapsed": true
   },
   "outputs": [],
   "source": []
  },
  {
   "cell_type": "code",
   "execution_count": null,
   "metadata": {
    "collapsed": true
   },
   "outputs": [],
   "source": []
  }
 ],
 "metadata": {
  "kernelspec": {
   "display_name": "Python 2",
   "language": "python",
   "name": "python2"
  },
  "language_info": {
   "codemirror_mode": {
    "name": "ipython",
    "version": 2
   },
   "file_extension": ".py",
   "mimetype": "text/x-python",
   "name": "python",
   "nbconvert_exporter": "python",
   "pygments_lexer": "ipython2",
   "version": "2.7.13"
  }
 },
 "nbformat": 4,
 "nbformat_minor": 2
}
